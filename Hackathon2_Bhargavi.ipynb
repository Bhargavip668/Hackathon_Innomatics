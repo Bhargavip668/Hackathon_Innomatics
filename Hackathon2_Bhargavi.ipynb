{
 "cells": [
  {
   "cell_type": "code",
   "execution_count": null,
   "metadata": {},
   "outputs": [],
   "source": []
  },
  {
   "cell_type": "code",
   "execution_count": 26,
   "metadata": {},
   "outputs": [],
   "source": [
    "# see the value of multiple statements at once\n",
    "# output for all commands in python jupyter notebook\n",
    "\n",
    "from IPython.core.interactiveshell import InteractiveShell\n",
    "InteractiveShell.ast_node_interactivity = \"all\"\n",
    "\n",
    "# to suppress the warnings\n",
    "\n",
    "import warnings\n",
    "warnings.filterwarnings('ignore')"
   ]
  },
  {
   "cell_type": "code",
   "execution_count": 27,
   "metadata": {},
   "outputs": [],
   "source": [
    "# importing the packages\n",
    "\n",
    "import numpy as np\n",
    "import pandas as pd\n",
    "import matplotlib.pyplot as plt\n",
    "import matplotlib.cm as cm\n",
    "import seaborn as sns\n",
    "import math\n",
    "import time\n",
    "import itertools as it\n",
    "\n",
    "\n",
    "# This magic command line tells the notebook to show plots inline\n",
    "%matplotlib inline\n",
    "\n",
    "# Set a style/theme to the plots\n",
    "sns.set_style(style='darkgrid')\n",
    "plt.style.use('ggplot')"
   ]
  },
  {
   "cell_type": "code",
   "execution_count": 28,
   "metadata": {},
   "outputs": [],
   "source": [
    "df = pd.read_csv('data_2_var.csv')"
   ]
  },
  {
   "cell_type": "code",
   "execution_count": 29,
   "metadata": {},
   "outputs": [
    {
     "data": {
      "text/html": [
       "<div>\n",
       "<style scoped>\n",
       "    .dataframe tbody tr th:only-of-type {\n",
       "        vertical-align: middle;\n",
       "    }\n",
       "\n",
       "    .dataframe tbody tr th {\n",
       "        vertical-align: top;\n",
       "    }\n",
       "\n",
       "    .dataframe thead th {\n",
       "        text-align: right;\n",
       "    }\n",
       "</style>\n",
       "<table border=\"1\" class=\"dataframe\">\n",
       "  <thead>\n",
       "    <tr style=\"text-align: right;\">\n",
       "      <th></th>\n",
       "      <th>-122.7406674</th>\n",
       "      <th>-130.5720846</th>\n",
       "    </tr>\n",
       "  </thead>\n",
       "  <tbody>\n",
       "    <tr>\n",
       "      <th>0</th>\n",
       "      <td>-121.531419</td>\n",
       "      <td>-129.938929</td>\n",
       "    </tr>\n",
       "    <tr>\n",
       "      <th>1</th>\n",
       "      <td>-134.917019</td>\n",
       "      <td>-130.141832</td>\n",
       "    </tr>\n",
       "    <tr>\n",
       "      <th>2</th>\n",
       "      <td>-120.605951</td>\n",
       "      <td>-125.760932</td>\n",
       "    </tr>\n",
       "    <tr>\n",
       "      <th>3</th>\n",
       "      <td>-129.894781</td>\n",
       "      <td>-112.785214</td>\n",
       "    </tr>\n",
       "    <tr>\n",
       "      <th>4</th>\n",
       "      <td>-134.366669</td>\n",
       "      <td>-116.000000</td>\n",
       "    </tr>\n",
       "  </tbody>\n",
       "</table>\n",
       "</div>"
      ],
      "text/plain": [
       "   -122.7406674  -130.5720846\n",
       "0   -121.531419   -129.938929\n",
       "1   -134.917019   -130.141832\n",
       "2   -120.605951   -125.760932\n",
       "3   -129.894781   -112.785214\n",
       "4   -134.366669   -116.000000"
      ]
     },
     "execution_count": 29,
     "metadata": {},
     "output_type": "execute_result"
    }
   ],
   "source": [
    "df.head()"
   ]
  },
  {
   "cell_type": "code",
   "execution_count": 30,
   "metadata": {},
   "outputs": [
    {
     "data": {
      "text/plain": [
       "(1110, 2)"
      ]
     },
     "execution_count": 30,
     "metadata": {},
     "output_type": "execute_result"
    }
   ],
   "source": [
    "df.shape"
   ]
  },
  {
   "cell_type": "code",
   "execution_count": 31,
   "metadata": {},
   "outputs": [
    {
     "name": "stdout",
     "output_type": "stream",
     "text": [
      "               x           y\n",
      "0    -121.531419 -129.938929\n",
      "1    -134.917019 -130.141832\n",
      "2    -120.605951 -125.760932\n",
      "3    -129.894781 -112.785214\n",
      "4    -134.366669 -116.000000\n",
      "...          ...         ...\n",
      "1105 -115.366669  121.000000\n",
      "1106 -119.954237  123.609122\n",
      "1107 -109.942155  127.197394\n",
      "1108 -111.515368  128.170885\n",
      "1109 -110.344221  123.087950\n",
      "\n",
      "[1110 rows x 2 columns]\n"
     ]
    }
   ],
   "source": [
    "print(df.rename(columns={'-122.7406674': 'x', '-130.5720846': 'y'}))"
   ]
  },
  {
   "cell_type": "code",
   "execution_count": 32,
   "metadata": {},
   "outputs": [
    {
     "data": {
      "text/plain": [
       "-122.7406674    float64\n",
       "-130.5720846    float64\n",
       "dtype: object"
      ]
     },
     "execution_count": 32,
     "metadata": {},
     "output_type": "execute_result"
    }
   ],
   "source": [
    "df.dtypes"
   ]
  },
  {
   "cell_type": "code",
   "execution_count": 33,
   "metadata": {},
   "outputs": [
    {
     "data": {
      "text/plain": [
       "-122.7406674    0\n",
       "-130.5720846    0\n",
       "dtype: int64"
      ]
     },
     "execution_count": 33,
     "metadata": {},
     "output_type": "execute_result"
    }
   ],
   "source": [
    "df.isnull().sum()"
   ]
  },
  {
   "cell_type": "code",
   "execution_count": 34,
   "metadata": {},
   "outputs": [
    {
     "data": {
      "text/html": [
       "<div>\n",
       "<style scoped>\n",
       "    .dataframe tbody tr th:only-of-type {\n",
       "        vertical-align: middle;\n",
       "    }\n",
       "\n",
       "    .dataframe tbody tr th {\n",
       "        vertical-align: top;\n",
       "    }\n",
       "\n",
       "    .dataframe thead th {\n",
       "        text-align: right;\n",
       "    }\n",
       "</style>\n",
       "<table border=\"1\" class=\"dataframe\">\n",
       "  <thead>\n",
       "    <tr style=\"text-align: right;\">\n",
       "      <th></th>\n",
       "      <th>-122.7406674</th>\n",
       "      <th>-130.5720846</th>\n",
       "    </tr>\n",
       "  </thead>\n",
       "  <tbody>\n",
       "    <tr>\n",
       "      <th>0</th>\n",
       "      <td>False</td>\n",
       "      <td>False</td>\n",
       "    </tr>\n",
       "    <tr>\n",
       "      <th>1</th>\n",
       "      <td>False</td>\n",
       "      <td>False</td>\n",
       "    </tr>\n",
       "    <tr>\n",
       "      <th>2</th>\n",
       "      <td>False</td>\n",
       "      <td>False</td>\n",
       "    </tr>\n",
       "    <tr>\n",
       "      <th>3</th>\n",
       "      <td>False</td>\n",
       "      <td>False</td>\n",
       "    </tr>\n",
       "    <tr>\n",
       "      <th>4</th>\n",
       "      <td>False</td>\n",
       "      <td>False</td>\n",
       "    </tr>\n",
       "  </tbody>\n",
       "</table>\n",
       "</div>"
      ],
      "text/plain": [
       "   -122.7406674  -130.5720846\n",
       "0         False         False\n",
       "1         False         False\n",
       "2         False         False\n",
       "3         False         False\n",
       "4         False         False"
      ]
     },
     "execution_count": 34,
     "metadata": {},
     "output_type": "execute_result"
    }
   ],
   "source": [
    "df.isnull().head()"
   ]
  },
  {
   "cell_type": "code",
   "execution_count": 35,
   "metadata": {},
   "outputs": [
    {
     "data": {
      "text/html": [
       "<div>\n",
       "<style scoped>\n",
       "    .dataframe tbody tr th:only-of-type {\n",
       "        vertical-align: middle;\n",
       "    }\n",
       "\n",
       "    .dataframe tbody tr th {\n",
       "        vertical-align: top;\n",
       "    }\n",
       "\n",
       "    .dataframe thead th {\n",
       "        text-align: right;\n",
       "    }\n",
       "</style>\n",
       "<table border=\"1\" class=\"dataframe\">\n",
       "  <thead>\n",
       "    <tr style=\"text-align: right;\">\n",
       "      <th></th>\n",
       "      <th>count</th>\n",
       "      <th>mean</th>\n",
       "      <th>std</th>\n",
       "      <th>min</th>\n",
       "      <th>25%</th>\n",
       "      <th>50%</th>\n",
       "      <th>75%</th>\n",
       "      <th>max</th>\n",
       "    </tr>\n",
       "  </thead>\n",
       "  <tbody>\n",
       "    <tr>\n",
       "      <th>-122.7406674</th>\n",
       "      <td>1110.0</td>\n",
       "      <td>6.899714</td>\n",
       "      <td>79.324069</td>\n",
       "      <td>-134.962839</td>\n",
       "      <td>-53.366669</td>\n",
       "      <td>15.739103</td>\n",
       "      <td>76.193907</td>\n",
       "      <td>134.605775</td>\n",
       "    </tr>\n",
       "    <tr>\n",
       "      <th>-130.5720846</th>\n",
       "      <td>1110.0</td>\n",
       "      <td>-26.093318</td>\n",
       "      <td>69.755980</td>\n",
       "      <td>-132.422167</td>\n",
       "      <td>-76.994298</td>\n",
       "      <td>-46.036319</td>\n",
       "      <td>7.598960</td>\n",
       "      <td>134.425495</td>\n",
       "    </tr>\n",
       "  </tbody>\n",
       "</table>\n",
       "</div>"
      ],
      "text/plain": [
       "               count       mean        std         min        25%        50%  \\\n",
       "-122.7406674  1110.0   6.899714  79.324069 -134.962839 -53.366669  15.739103   \n",
       "-130.5720846  1110.0 -26.093318  69.755980 -132.422167 -76.994298 -46.036319   \n",
       "\n",
       "                    75%         max  \n",
       "-122.7406674  76.193907  134.605775  \n",
       "-130.5720846   7.598960  134.425495  "
      ]
     },
     "execution_count": 35,
     "metadata": {},
     "output_type": "execute_result"
    }
   ],
   "source": [
    "#Summary statistics\n",
    "df.describe().transpose()"
   ]
  },
  {
   "cell_type": "code",
   "execution_count": 39,
   "metadata": {},
   "outputs": [
    {
     "data": {
      "image/png": "[encoded data removed]",
      "text/plain": [
       "<Figure size 864x432 with 1 Axes>"
      ]
     },
     "metadata": {},
     "output_type": "display_data"
    }
   ],
   "source": [
    "# Box plot for checking the outliers\n",
    "\n",
    "plt.subplots(figsize=(12, 6))\n",
    "ax = sns.boxplot(data=df)\n",
    "ax.set_xticklabels(ax.get_xticklabels(), rotation=45);"
   ]
  },
  {
   "cell_type": "code",
   "execution_count": 44,
   "metadata": {},
   "outputs": [
    {
     "data": {
      "text/plain": [
       "(-53.366668700000005, 76.19390685)"
      ]
     },
     "execution_count": 44,
     "metadata": {},
     "output_type": "execute_result"
    }
   ],
   "source": [
    "Q1 = df['-122.7406674'].quantile(0.25)\n",
    "Q3 = df['-122.7406674'].quantile(0.75)\n",
    "Q1, Q3"
   ]
  },
  {
   "cell_type": "code",
   "execution_count": 45,
   "metadata": {},
   "outputs": [
    {
     "data": {
      "text/plain": [
       "129.56057555"
      ]
     },
     "execution_count": 45,
     "metadata": {},
     "output_type": "execute_result"
    }
   ],
   "source": [
    "IQR = Q3 - Q1\n",
    "IQR"
   ]
  },
  {
   "cell_type": "code",
   "execution_count": 46,
   "metadata": {},
   "outputs": [
    {
     "data": {
      "text/plain": [
       "(-247.70753202500003, 270.534770175)"
      ]
     },
     "execution_count": 46,
     "metadata": {},
     "output_type": "execute_result"
    }
   ],
   "source": [
    "lower_limit = Q1 - 1.5*IQR\n",
    "upper_limit = Q3 + 1.5*IQR\n",
    "lower_limit, upper_limit"
   ]
  },
  {
   "cell_type": "code",
   "execution_count": 47,
   "metadata": {},
   "outputs": [
    {
     "data": {
      "text/html": [
       "<div>\n",
       "<style scoped>\n",
       "    .dataframe tbody tr th:only-of-type {\n",
       "        vertical-align: middle;\n",
       "    }\n",
       "\n",
       "    .dataframe tbody tr th {\n",
       "        vertical-align: top;\n",
       "    }\n",
       "\n",
       "    .dataframe thead th {\n",
       "        text-align: right;\n",
       "    }\n",
       "</style>\n",
       "<table border=\"1\" class=\"dataframe\">\n",
       "  <thead>\n",
       "    <tr style=\"text-align: right;\">\n",
       "      <th></th>\n",
       "      <th>-122.7406674</th>\n",
       "      <th>-130.5720846</th>\n",
       "    </tr>\n",
       "  </thead>\n",
       "  <tbody>\n",
       "  </tbody>\n",
       "</table>\n",
       "</div>"
      ],
      "text/plain": [
       "Empty DataFrame\n",
       "Columns: [-122.7406674, -130.5720846]\n",
       "Index: []"
      ]
     },
     "execution_count": 47,
     "metadata": {},
     "output_type": "execute_result"
    }
   ],
   "source": [
    "df[(df['-122.7406674']<lower_limit)|(df['-122.7406674']>upper_limit)]"
   ]
  },
  {
   "cell_type": "code",
   "execution_count": 48,
   "metadata": {},
   "outputs": [
    {
     "data": {
      "text/plain": [
       "(-76.99429755, 7.598959891)"
      ]
     },
     "execution_count": 48,
     "metadata": {},
     "output_type": "execute_result"
    }
   ],
   "source": [
    "Q1 = df['-130.5720846'].quantile(0.25)\n",
    "Q3 = df['-130.5720846'].quantile(0.75)\n",
    "Q1, Q3"
   ]
  },
  {
   "cell_type": "code",
   "execution_count": 49,
   "metadata": {},
   "outputs": [
    {
     "data": {
      "text/plain": [
       "84.59325744099999"
      ]
     },
     "execution_count": 49,
     "metadata": {},
     "output_type": "execute_result"
    }
   ],
   "source": [
    "IQR = Q3 - Q1\n",
    "IQR"
   ]
  },
  {
   "cell_type": "code",
   "execution_count": 50,
   "metadata": {},
   "outputs": [
    {
     "data": {
      "text/plain": [
       "(-203.8841837115, 134.48884605249998)"
      ]
     },
     "execution_count": 50,
     "metadata": {},
     "output_type": "execute_result"
    }
   ],
   "source": [
    "lower_limit = Q1 - 1.5*IQR\n",
    "upper_limit = Q3 + 1.5*IQR\n",
    "lower_limit, upper_limit"
   ]
  },
  {
   "cell_type": "code",
   "execution_count": 51,
   "metadata": {},
   "outputs": [
    {
     "data": {
      "text/html": [
       "<div>\n",
       "<style scoped>\n",
       "    .dataframe tbody tr th:only-of-type {\n",
       "        vertical-align: middle;\n",
       "    }\n",
       "\n",
       "    .dataframe tbody tr th {\n",
       "        vertical-align: top;\n",
       "    }\n",
       "\n",
       "    .dataframe thead th {\n",
       "        text-align: right;\n",
       "    }\n",
       "</style>\n",
       "<table border=\"1\" class=\"dataframe\">\n",
       "  <thead>\n",
       "    <tr style=\"text-align: right;\">\n",
       "      <th></th>\n",
       "      <th>-122.7406674</th>\n",
       "      <th>-130.5720846</th>\n",
       "    </tr>\n",
       "  </thead>\n",
       "  <tbody>\n",
       "  </tbody>\n",
       "</table>\n",
       "</div>"
      ],
      "text/plain": [
       "Empty DataFrame\n",
       "Columns: [-122.7406674, -130.5720846]\n",
       "Index: []"
      ]
     },
     "execution_count": 51,
     "metadata": {},
     "output_type": "execute_result"
    }
   ],
   "source": [
    "df[(df['-130.5720846']<lower_limit)|(df['-130.5720846']>upper_limit)]"
   ]
  },
  {
   "cell_type": "markdown",
   "metadata": {},
   "source": [
    "# Observations:\n",
    " - The values obtained less than lower limit and more than upper limit is '0'.\n",
    " - There were no outliers."
   ]
  },
  {
   "cell_type": "code",
   "execution_count": 37,
   "metadata": {},
   "outputs": [
    {
     "data": {
      "image/png": "[encoded data removed]",
      "text/plain": [
       "<Figure size 432x288 with 2 Axes>"
      ]
     },
     "metadata": {},
     "output_type": "display_data"
    }
   ],
   "source": [
    "#Correlation Matrix\n",
    "\n",
    "sns.heatmap(df.corr(), annot=True, linewidth=2)\n",
    "plt.title(\"Correlation between variables\")\n",
    "plt.show();"
   ]
  },
  {
   "cell_type": "code",
   "execution_count": 38,
   "metadata": {},
   "outputs": [
    {
     "data": {
      "text/html": [
       "<div>\n",
       "<style scoped>\n",
       "    .dataframe tbody tr th:only-of-type {\n",
       "        vertical-align: middle;\n",
       "    }\n",
       "\n",
       "    .dataframe tbody tr th {\n",
       "        vertical-align: top;\n",
       "    }\n",
       "\n",
       "    .dataframe thead th {\n",
       "        text-align: right;\n",
       "    }\n",
       "</style>\n",
       "<table border=\"1\" class=\"dataframe\">\n",
       "  <thead>\n",
       "    <tr style=\"text-align: right;\">\n",
       "      <th></th>\n",
       "      <th>-122.7406674</th>\n",
       "      <th>-130.5720846</th>\n",
       "    </tr>\n",
       "  </thead>\n",
       "  <tbody>\n",
       "    <tr>\n",
       "      <th>-122.7406674</th>\n",
       "      <td>1.000000</td>\n",
       "      <td>0.454607</td>\n",
       "    </tr>\n",
       "    <tr>\n",
       "      <th>-130.5720846</th>\n",
       "      <td>0.454607</td>\n",
       "      <td>1.000000</td>\n",
       "    </tr>\n",
       "  </tbody>\n",
       "</table>\n",
       "</div>"
      ],
      "text/plain": [
       "              -122.7406674  -130.5720846\n",
       "-122.7406674      1.000000      0.454607\n",
       "-130.5720846      0.454607      1.000000"
      ]
     },
     "execution_count": 38,
     "metadata": {},
     "output_type": "execute_result"
    }
   ],
   "source": [
    "df.corr()"
   ]
  },
  {
   "cell_type": "markdown",
   "metadata": {},
   "source": [
    "# Splitting the data into Train and Test"
   ]
  },
  {
   "cell_type": "code",
   "execution_count": 92,
   "metadata": {},
   "outputs": [
    {
     "name": "stdout",
     "output_type": "stream",
     "text": [
      "      -130.5720846\n",
      "0             -129\n",
      "1             -130\n",
      "2             -125\n",
      "3             -112\n",
      "4             -116\n",
      "...            ...\n",
      "1105           121\n",
      "1106           123\n",
      "1107           127\n",
      "1108           128\n",
      "1109           123\n",
      "\n",
      "[1110 rows x 1 columns]\n"
     ]
    }
   ],
   "source": [
    "X =df.loc[:,df.columns!=\"-122.7406674\"]\n",
    "print(X)"
   ]
  },
  {
   "cell_type": "code",
   "execution_count": 93,
   "metadata": {},
   "outputs": [
    {
     "name": "stdout",
     "output_type": "stream",
     "text": [
      "      -122.7406674\n",
      "0             -121\n",
      "1             -134\n",
      "2             -120\n",
      "3             -129\n",
      "4             -134\n",
      "...            ...\n",
      "1105          -115\n",
      "1106          -119\n",
      "1107          -109\n",
      "1108          -111\n",
      "1109          -110\n",
      "\n",
      "[1110 rows x 1 columns]\n"
     ]
    }
   ],
   "source": [
    "y =df.loc[:,df.columns!=\"-130.5720846\"]\n",
    "print(y)"
   ]
  },
  {
   "cell_type": "code",
   "execution_count": 94,
   "metadata": {},
   "outputs": [],
   "source": [
    "from sklearn.model_selection import train_test_split\n",
    "X_Train, X_Test, y_Train, y_Test, = train_test_split(X,y,test_size = 0.25 , random_state =0)"
   ]
  },
  {
   "cell_type": "code",
   "execution_count": 96,
   "metadata": {},
   "outputs": [
    {
     "name": "stdout",
     "output_type": "stream",
     "text": [
      "(832, 1)\n",
      "(832, 1)\n",
      "(278, 1)\n",
      "(278, 1)\n"
     ]
    }
   ],
   "source": [
    "#check for sample data\n",
    "\n",
    "print(X_Train.shape)\n",
    "print(y_Train.shape)\n",
    "print(X_Test.shape)\n",
    "print(y_Test.shape)\n"
   ]
  },
  {
   "cell_type": "markdown",
   "metadata": {},
   "source": [
    "# There are 3 main metrics for model evaluation in regression:\n",
    "1. R Square/Adjusted R Square\n",
    "2. Mean Square Error(MSE)/Root Mean Square Error(RMSE)\n",
    "3. Mean Absolute Error(MAE)"
   ]
  },
  {
   "cell_type": "markdown",
   "metadata": {},
   "source": [
    "# Multiple linear regression"
   ]
  },
  {
   "cell_type": "code",
   "execution_count": 118,
   "metadata": {},
   "outputs": [
    {
     "name": "stdout",
     "output_type": "stream",
     "text": [
      "Accuracy of model is 0.21911728321518287\n",
      "Mean Absolute Error: 58.29939142394815\n",
      "Mean Squared Error: 4888.826534323042\n",
      "Root Mean Squared Error: 69.9201439809948\n"
     ]
    }
   ],
   "source": [
    "#fit a model\n",
    "\n",
    "from sklearn.linear_model import LinearRegression\n",
    "from sklearn.metrics import mean_squared_error\n",
    "from sklearn import metrics\n",
    "lm = LinearRegression()\n",
    "model1 = lm.fit(X_Train, y_Train)\n",
    "predictions1 = lm.predict(X_Test)\n",
    "m1=model1.score(X_Test, y_Test)\n",
    "RMSE1=np.sqrt(metrics.mean_squared_error(y_Test, predictions1))\n",
    "print('Accuracy of model is', model1.score(X_Test, y_Test))\n",
    "print('Mean Absolute Error:', metrics.mean_absolute_error(y_Test, predictions1))  \n",
    "print('Mean Squared Error:', metrics.mean_squared_error(y_Test, predictions1))  \n",
    "print('Root Mean Squared Error:', np.sqrt(metrics.mean_squared_error(y_Test, predictions1)))"
   ]
  },
  {
   "cell_type": "code",
   "execution_count": 120,
   "metadata": {},
   "outputs": [
    {
     "name": "stdout",
     "output_type": "stream",
     "text": [
      "Accuracy of model is 0.2191175757476983\n",
      "Mean Absolute Error: 58.29968310902067\n",
      "Mean Squared Error: 4888.824702881915\n",
      "Root Mean Squared Error: 69.92013088433055\n"
     ]
    }
   ],
   "source": [
    "# Model 2: LASSO Model\n",
    "from sklearn.linear_model import Lasso\n",
    "from sklearn.metrics import mean_squared_error\n",
    "from sklearn import metrics\n",
    "las = Lasso(alpha=0.1)\n",
    "model2 = las.fit(X_Train, y_Train)\n",
    "predictions2 = las.predict(X_Test)\n",
    "m2=model2.score(X_Test, y_Test)\n",
    "RMSE2=np.sqrt(metrics.mean_squared_error(y_Test, predictions2))\n",
    "print('Accuracy of model is', model2.score(X_Test, y_Test))\n",
    "print('Mean Absolute Error:', metrics.mean_absolute_error(y_Test, predictions2))  \n",
    "print('Mean Squared Error:', metrics.mean_squared_error(y_Test, predictions2))  \n",
    "print('Root Mean Squared Error:', np.sqrt(metrics.mean_squared_error(y_Test, predictions2)))"
   ]
  },
  {
   "cell_type": "code",
   "execution_count": 121,
   "metadata": {},
   "outputs": [
    {
     "name": "stdout",
     "output_type": "stream",
     "text": [
      "Accuracy of model is 0.4196517806270027\n",
      "Mean Absolute Error: 41.51811991277463\n",
      "Mean Squared Error: 3633.3519913204514\n",
      "Root Mean Squared Error: 60.27729250157518\n"
     ]
    }
   ],
   "source": [
    "# Model: Random forest regression\n",
    "\n",
    "from sklearn.ensemble import RandomForestRegressor\n",
    "from sklearn.metrics import mean_squared_error\n",
    "from sklearn import metrics\n",
    "Rnd = RandomForestRegressor(ccp_alpha=0.0)\n",
    "model4 = Rnd.fit(X_Train, y_Train)\n",
    "predictions4 = Rnd.predict(X_Test)\n",
    "m4=model4.score(X_Test, y_Test)\n",
    "RMSE4=np.sqrt(metrics.mean_squared_error(y_Test, predictions4))\n",
    "print('Accuracy of model is', model4.score(X_Test, y_Test))\n",
    "print('Mean Absolute Error:', metrics.mean_absolute_error(y_Test, predictions4))  \n",
    "print('Mean Squared Error:', metrics.mean_squared_error(y_Test, predictions4))  \n",
    "print('Root Mean Squared Error:', np.sqrt(metrics.mean_squared_error(y_Test, predictions4)))"
   ]
  },
  {
   "cell_type": "code",
   "execution_count": 122,
   "metadata": {},
   "outputs": [
    {
     "name": "stdout",
     "output_type": "stream",
     "text": [
      "Accuracy of model is 0.4095462459728474\n",
      "Mean Absolute Error: 41.25962512002504\n",
      "Mean Squared Error: 3696.6191182510747\n",
      "Root Mean Squared Error: 60.799828274848565\n"
     ]
    }
   ],
   "source": [
    "# Model : Decision tree regression\n",
    "\n",
    "from sklearn.tree import DecisionTreeRegressor\n",
    "from sklearn.metrics import mean_squared_error\n",
    "from sklearn import metrics\n",
    "dtr = DecisionTreeRegressor(ccp_alpha=0.0)\n",
    "model5 = dtr.fit(X_Train, y_Train)\n",
    "predictions5 = dtr.predict(X_Test)\n",
    "m5=model5.score(X_Test, y_Test)\n",
    "RMSE5=np.sqrt(metrics.mean_squared_error(y_Test, predictions5))\n",
    "print('Accuracy of model is', model5.score(X_Test, y_Test))\n",
    "print('Mean Absolute Error:', metrics.mean_absolute_error(y_Test, predictions5))  \n",
    "print('Mean Squared Error:', metrics.mean_squared_error(y_Test, predictions5))  \n",
    "print('Root Mean Squared Error:', np.sqrt(metrics.mean_squared_error(y_Test, predictions5)))"
   ]
  },
  {
   "cell_type": "code",
   "execution_count": 123,
   "metadata": {},
   "outputs": [
    {
     "name": "stdout",
     "output_type": "stream",
     "text": [
      "Accuracy of model is 0.10657978181292127\n",
      "Mean Absolute Error: 51.024330584312196\n",
      "Mean Squared Error: 5593.383455786322\n",
      "Root Mean Squared Error: 74.78892602375248\n"
     ]
    }
   ],
   "source": [
    "# Model : SVM regression\n",
    "\n",
    "from sklearn import svm\n",
    "from sklearn.metrics import mean_squared_error\n",
    "from sklearn import metrics\n",
    "svm= svm.SVR(kernel='linear')\n",
    "model7 = svm.fit(X_Train, y_Train)\n",
    "predictions7 = svm.predict(X_Test)\n",
    "m7=model7.score(X_Test, y_Test)\n",
    "RMSE7=np.sqrt(metrics.mean_squared_error(y_Test, predictions7))\n",
    "print('Accuracy of model is', model7.score(X_Test, y_Test))\n",
    "print('Mean Absolute Error:', metrics.mean_absolute_error(y_Test, predictions7))  \n",
    "print('Mean Squared Error:', metrics.mean_squared_error(y_Test, predictions7))  \n",
    "print('Root Mean Squared Error:', np.sqrt(metrics.mean_squared_error(y_Test, predictions7)))"
   ]
  },
  {
   "cell_type": "code",
   "execution_count": 117,
   "metadata": {},
   "outputs": [
    {
     "name": "stdout",
     "output_type": "stream",
     "text": [
      "Accuracy of model is 0.27637807980188434\n",
      "Mean Absolute Error: 46.78237410071942\n",
      "Mean Squared Error: 4530.337230215828\n",
      "Root Mean Squared Error: 67.30777986396393\n"
     ]
    }
   ],
   "source": [
    "# Model 6: KNN regression\n",
    "\n",
    "from sklearn.neighbors import KNeighborsRegressor\n",
    "from sklearn.metrics import mean_squared_error\n",
    "from sklearn import metrics\n",
    "knn = KNeighborsRegressor(n_neighbors=2)\n",
    "model6 = knn.fit(X_Train, y_Train)\n",
    "predictions6 = knn.predict(X_Test)\n",
    "m6=model6.score(X_Test, y_Test)\n",
    "RMSE6=np.sqrt(metrics.mean_squared_error(y_Test, predictions6))\n",
    "print('Accuracy of model is', model6.score(X_Test, y_Test))\n",
    "print('Mean Absolute Error:', metrics.mean_absolute_error(y_Test, predictions6))  \n",
    "print('Mean Squared Error:', metrics.mean_squared_error(y_Test, predictions6))  \n",
    "print('Root Mean Squared Error:', np.sqrt(metrics.mean_squared_error(y_Test, predictions6)))"
   ]
  },
  {
   "cell_type": "code",
   "execution_count": 127,
   "metadata": {},
   "outputs": [
    {
     "data": {
      "text/plain": [
       "<Figure size 1080x360 with 0 Axes>"
      ]
     },
     "execution_count": 127,
     "metadata": {},
     "output_type": "execute_result"
    },
    {
     "ename": "NameError",
     "evalue": "name 'colors' is not defined",
     "output_type": "error",
     "traceback": [
      "\u001b[1;31m---------------------------------------------------------------------------\u001b[0m",
      "\u001b[1;31mNameError\u001b[0m                                 Traceback (most recent call last)",
      "\u001b[1;32m<ipython-input-127-a33ce2fbf18e>\u001b[0m in \u001b[0;36m<module>\u001b[1;34m\u001b[0m\n\u001b[0;32m      3\u001b[0m \u001b[0mbars\u001b[0m \u001b[1;33m=\u001b[0m \u001b[1;33m(\u001b[0m\u001b[1;34m'Linear'\u001b[0m\u001b[1;33m,\u001b[0m \u001b[1;34m'Lasso'\u001b[0m\u001b[1;33m,\u001b[0m \u001b[1;34m'Ridge'\u001b[0m\u001b[1;33m,\u001b[0m \u001b[1;34m'Random_Forest'\u001b[0m\u001b[1;33m,\u001b[0m \u001b[1;34m'Decision_Tree'\u001b[0m\u001b[1;33m,\u001b[0m \u001b[1;34m'KNN'\u001b[0m\u001b[1;33m,\u001b[0m \u001b[1;34m'SVM'\u001b[0m\u001b[1;33m)\u001b[0m\u001b[1;33m\u001b[0m\u001b[1;33m\u001b[0m\u001b[0m\n\u001b[0;32m      4\u001b[0m \u001b[0mplt\u001b[0m\u001b[1;33m.\u001b[0m\u001b[0mfigure\u001b[0m\u001b[1;33m(\u001b[0m\u001b[0mfigsize\u001b[0m\u001b[1;33m=\u001b[0m\u001b[1;33m(\u001b[0m\u001b[1;36m15\u001b[0m\u001b[1;33m,\u001b[0m\u001b[1;36m5\u001b[0m\u001b[1;33m)\u001b[0m\u001b[1;33m)\u001b[0m\u001b[1;33m\u001b[0m\u001b[1;33m\u001b[0m\u001b[0m\n\u001b[1;32m----> 5\u001b[1;33m \u001b[0mplt\u001b[0m\u001b[1;33m.\u001b[0m\u001b[0mbar\u001b[0m\u001b[1;33m(\u001b[0m\u001b[0mbars\u001b[0m\u001b[1;33m,\u001b[0m\u001b[0mheight\u001b[0m\u001b[1;33m,\u001b[0m\u001b[0mcolor\u001b[0m\u001b[1;33m=\u001b[0m\u001b[0mcolors\u001b[0m\u001b[1;33m)\u001b[0m\u001b[1;33m\u001b[0m\u001b[1;33m\u001b[0m\u001b[0m\n\u001b[0m\u001b[0;32m      6\u001b[0m \u001b[0mplt\u001b[0m\u001b[1;33m.\u001b[0m\u001b[0mxticks\u001b[0m\u001b[1;33m(\u001b[0m\u001b[0mrotation\u001b[0m\u001b[1;33m=\u001b[0m\u001b[1;36m60\u001b[0m\u001b[1;33m)\u001b[0m\u001b[1;33m\u001b[0m\u001b[1;33m\u001b[0m\u001b[0m\n\u001b[0;32m      7\u001b[0m \u001b[0mplt\u001b[0m\u001b[1;33m.\u001b[0m\u001b[0mxlabel\u001b[0m\u001b[1;33m(\u001b[0m\u001b[1;34m'Models'\u001b[0m\u001b[1;33m)\u001b[0m\u001b[1;33m\u001b[0m\u001b[1;33m\u001b[0m\u001b[0m\n",
      "\u001b[1;31mNameError\u001b[0m: name 'colors' is not defined"
     ]
    },
    {
     "data": {
      "text/plain": [
       "<Figure size 1080x360 with 0 Axes>"
      ]
     },
     "metadata": {},
     "output_type": "display_data"
    }
   ],
   "source": [
    "# Model Comparison\n",
    "height = [m1, m2, m4, m5, m6, m7]\n",
    "bars = ('Linear', 'Lasso', 'Ridge', 'Random_Forest', 'Decision_Tree', 'KNN', 'SVM')\n",
    "plt.figure(figsize=(15,5))\n",
    "plt.bar(bars,height,color=colors)\n",
    "plt.xticks(rotation=60)\n",
    "plt.xlabel('Models')\n",
    "plt.ylabel('Accuracy(%)')\n",
    "plt.show()"
   ]
  },
  {
   "cell_type": "markdown",
   "metadata": {},
   "source": [
    "# RandomForest Regression performs well than other algorithms"
   ]
  },
  {
   "cell_type": "code",
   "execution_count": null,
   "metadata": {},
   "outputs": [],
   "source": []
  },
  {
   "cell_type": "code",
   "execution_count": null,
   "metadata": {},
   "outputs": [],
   "source": []
  }
 ],
 "metadata": {
  "kernelspec": {
   "display_name": "Python 3",
   "language": "python",
   "name": "python3"
  },
  "language_info": {
   "codemirror_mode": {
    "name": "ipython",
    "version": 3
   },
   "file_extension": ".py",
   "mimetype": "text/x-python",
   "name": "python",
   "nbconvert_exporter": "python",
   "pygments_lexer": "ipython3",
   "version": "3.7.6"
  }
 },
 "nbformat": 4,
 "nbformat_minor": 4
}
